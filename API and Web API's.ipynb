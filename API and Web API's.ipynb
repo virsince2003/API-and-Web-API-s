{
 "cells": [
  {
   "cell_type": "markdown",
   "id": "b70e6bce-f163-4408-9bcb-6ae8302b8664",
   "metadata": {},
   "source": [
    " ##### Q1. What is an API? Give an example, where an API is used in real life."
   ]
  },
  {
   "cell_type": "markdown",
   "id": "ba0a66b6-bc78-4118-b82d-5a30e291e6a6",
   "metadata": {},
   "source": [
    "API stands for Application Programming Interface. An API establishes a connection between programs so they can transfer data."
   ]
  },
  {
   "cell_type": "markdown",
   "id": "c119e97a-d9f6-4a62-97ca-9cb259a352fe",
   "metadata": {},
   "source": [
    "example of api is Online Payment Systems."
   ]
  },
  {
   "cell_type": "markdown",
   "id": "b52170c3-42fe-40f4-a5f7-5a551ae71dba",
   "metadata": {},
   "source": [
    "##### Q2. Give advantages and disadvantages of using API."
   ]
  },
  {
   "cell_type": "markdown",
   "id": "1e5a23d3-ce51-4f83-8edc-31c0f2054966",
   "metadata": {},
   "source": [
    "  Advantages:\n",
    "  APIs help to streamline processes and improve efficiency by allowing different systems to work together seamlessly.\n",
    "  \n",
    "  APIs make it easy for developers to integrate different systems and technologies, reducing the need for custom integration code.\n",
    "  \n",
    "  APIs allow applications to scale more easily by providing access to resources and functionalities that would be difficult or impossible to create from scratch.\n",
    " \n",
    " Cost-Effective.\n",
    "  \n",
    "  \n",
    "Disadvantages:\n",
    " APIs can create security risks if they are not properly secured and authenticated, allowing unauthorized access to sensitive data or systems.\n",
    " \n",
    " Compatibility: APIs can be affected by changes in the systems they are integrated with, which can cause compatibility issues and require updates or changes.\n",
    " \n",
    " APIs can affect performance if they are not optimized or if the systems they are integrated with experience downtime or other issues.\n",
    "  "
   ]
  },
  {
   "cell_type": "markdown",
   "id": "81aef8a8-1393-4e4e-b6ef-8a1893938d1b",
   "metadata": {},
   "source": [
    "##### Q3. What is a Web API? Differentiate between API and Web API."
   ]
  },
  {
   "cell_type": "markdown",
   "id": "78d8e757-9300-4cd5-ad36-3de863fc9b6a",
   "metadata": {},
   "source": [
    "A Web API is an application programming interface (API) for either a web server or a web browser 1. It can be accessed using HTTP protocol and can be built using different technologies. \n",
    "\n",
    "The main difference between an API and a Web API is that a Web API is specifically designed for the web, while an API can be used for any type of application. A Web API can extend the functionality of a web browser or a web server "
   ]
  },
  {
   "cell_type": "markdown",
   "id": "66adf3ce-aac2-4f9c-9a43-694289e1cf77",
   "metadata": {},
   "source": [
    "##### Q4. Explain REST and SOAP Architecture. Mention shortcomings of SOAP."
   ]
  },
  {
   "cell_type": "markdown",
   "id": "0ef113f6-cee9-427d-9d57-cebf4c998057",
   "metadata": {},
   "source": [
    "REST (Representational State Transfer) is an architectural style for building web services, while SOAP (Simple Object Access Protocol) is a protocol for exchanging structured information 12. REST is more data-driven and permits many different data formats, including plain text, HTML, XML, and JSON. SOAP only uses XML"
   ]
  },
  {
   "cell_type": "markdown",
   "id": "505c7498-14da-4b5b-982d-89fff1873feb",
   "metadata": {},
   "source": [
    "One shortcoming of SOAP is that it has built-in rules that increase its complexity and overhead, which can lead to longer page load times "
   ]
  },
  {
   "cell_type": "markdown",
   "id": "92019a61-5ad6-4b57-875d-e1e5e7445307",
   "metadata": {},
   "source": [
    "##### Q5. Differentiate between REST and SOAP."
   ]
  },
  {
   "cell_type": "markdown",
   "id": "7cab35e5-7570-4074-956e-e6de8a525d82",
   "metadata": {},
   "source": [
    " REST stands for REpresentational State Transfer and is an architectural style. SOAP stands for Simple Object Access Protocol and is a protocol"
   ]
  },
  {
   "cell_type": "markdown",
   "id": "7ba84039-ca89-4b8e-bcd9-96b6be334272",
   "metadata": {},
   "source": [
    "SOAP permits XML data format only while REST permits different data formats such as Plain text, HTML, XML, JSON etc"
   ]
  },
  {
   "cell_type": "markdown",
   "id": "466bbff0-11bb-4a20-aa86-4798bca27e3b",
   "metadata": {},
   "source": [
    " SOAP requires more bandwidth and resource than REST while REST requires less bandwidth and resource than SOAP."
   ]
  },
  {
   "cell_type": "code",
   "execution_count": null,
   "id": "8c718856-821d-491b-a60a-ea2f9a9fe3f8",
   "metadata": {},
   "outputs": [],
   "source": []
  }
 ],
 "metadata": {
  "kernelspec": {
   "display_name": "Python 3 (ipykernel)",
   "language": "python",
   "name": "python3"
  },
  "language_info": {
   "codemirror_mode": {
    "name": "ipython",
    "version": 3
   },
   "file_extension": ".py",
   "mimetype": "text/x-python",
   "name": "python",
   "nbconvert_exporter": "python",
   "pygments_lexer": "ipython3",
   "version": "3.10.8"
  }
 },
 "nbformat": 4,
 "nbformat_minor": 5
}
